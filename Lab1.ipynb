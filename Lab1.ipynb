{
  "nbformat": 4,
  "nbformat_minor": 0,
  "metadata": {
    "colab": {
      "name": "Lab1.ipynb",
      "provenance": [],
      "authorship_tag": "ABX9TyP5tEA9qpMaktJMpGWcnlGa",
      "include_colab_link": true
    },
    "kernelspec": {
      "name": "python3",
      "display_name": "Python 3"
    },
    "language_info": {
      "name": "python"
    }
  },
  "cells": [
    {
      "cell_type": "markdown",
      "metadata": {
        "id": "view-in-github",
        "colab_type": "text"
      },
      "source": [
        "<a href=\"https://colab.research.google.com/github/JiroBrent/CPEN-21A-ECE-2-2/blob/main/Lab1.ipynb\" target=\"_parent\"><img src=\"https://colab.research.google.com/assets/colab-badge.svg\" alt=\"Open In Colab\"/></a>"
      ]
    },
    {
      "cell_type": "code",
      "metadata": {
        "colab": {
          "base_uri": "https://localhost:8080/"
        },
        "id": "toLLTchPfsC1",
        "outputId": "86b58eb2-b092-4990-b97d-077a779850f6"
      },
      "source": [
        "x = \"Laboratory 1: \"\n",
        "y = \"Welcome to Python Programming\"\n",
        "print (x+y)\n",
        "def personal_details():\n",
        "    name, age = \"Jiro Brent S. Ronio\", 19\n",
        "    address = \"Indang, Cavite, Philippines\"\n",
        "    print(\"Name: {}\\nAge: {}\\nAddress: {}\".format(name, age, address))\n",
        "\n",
        "personal_details()"
      ],
      "execution_count": 12,
      "outputs": [
        {
          "output_type": "stream",
          "name": "stdout",
          "text": [
            "Laboratory 1: Welcome to Python Programming\n",
            "Name: Jiro Brent S. Ronio\n",
            "Age: 19\n",
            "Address: Indang, Cavite, Philippines\n"
          ]
        }
      ]
    }
  ]
}