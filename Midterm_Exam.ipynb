{
  "nbformat": 4,
  "nbformat_minor": 0,
  "metadata": {
    "colab": {
      "name": "Midterm Exam.ipynb",
      "provenance": [],
      "authorship_tag": "ABX9TyNmMFe2fCcC4xRpfvxdJC/X",
      "include_colab_link": true
    },
    "kernelspec": {
      "name": "python3",
      "display_name": "Python 3"
    },
    "language_info": {
      "name": "python"
    }
  },
  "cells": [
    {
      "cell_type": "markdown",
      "metadata": {
        "id": "view-in-github",
        "colab_type": "text"
      },
      "source": [
        "<a href=\"https://colab.research.google.com/github/JiroBrent/CPEN-21A-ECE-2-2/blob/main/Midterm_Exam.ipynb\" target=\"_parent\"><img src=\"https://colab.research.google.com/assets/colab-badge.svg\" alt=\"Open In Colab\"/></a>"
      ]
    },
    {
      "cell_type": "markdown",
      "metadata": {
        "id": "lkle-CsFymoR"
      },
      "source": [
        "##Problem Statement 1"
      ]
    },
    {
      "cell_type": "code",
      "metadata": {
        "colab": {
          "base_uri": "https://localhost:8080/"
        },
        "id": "OTwywYG5sOe1",
        "outputId": "78ceab73-3c0c-45ff-a4f6-8d945e8aefbc"
      },
      "source": [
        "x = \"CPEN21A: \"\n",
        "y = \"Midterm Exam\"\n",
        "print (x+y)\n",
        "def personal_details():\n",
        "    name = \"Jiro Brent Salting Ronio\"\n",
        "    idno = \"202014659\"\n",
        "    age = \"19\"\n",
        "    birthday = \"August 26, 2002\"\n",
        "    address = \"Daine I Indang, Cavite, Philippines\"\n",
        "    course = \"Bachelor of Science in Electronics and Communication Engineering\"\n",
        "    gwa = \"1.6\"\n",
        "    print(\"Full Name: {}\\nID No.: {}\\nAge: {}\\nBirthday: {}\\nAddress: {}\\nCourse: {}\\nGWA: {}\".format(name, idno, age, birthday, address, course, gwa))\n",
        "\n",
        "personal_details()"
      ],
      "execution_count": 2,
      "outputs": [
        {
          "output_type": "stream",
          "name": "stdout",
          "text": [
            "CPEN21A: Midterm Exam\n",
            "Full Name: Jiro Brent Salting Ronio\n",
            "ID No.: 202014659\n",
            "Age: 19\n",
            "Birthday: August 26, 2002\n",
            "Address: Daine I Indang, Cavite, Philippines\n",
            "Course: Bachelor of Science in Electronics and Communication Engineering\n",
            "GWA: 1.6\n"
          ]
        }
      ]
    },
    {
      "cell_type": "markdown",
      "metadata": {
        "id": "6ss7xs9NzCDF"
      },
      "source": [
        "##Problem Statement 2"
      ]
    },
    {
      "cell_type": "code",
      "metadata": {
        "colab": {
          "base_uri": "https://localhost:8080/"
        },
        "id": "siKxAjRwzLGp",
        "outputId": "8e8c6215-46ba-4a4b-f280-7ff27564d187"
      },
      "source": [
        "n = 4\n",
        "answ = \"Y\"\n",
        "\n",
        "print(2<n and n<6)\n",
        "print(2<n or n==6)\n",
        "print(not 2<n or n==6)\n",
        "print(not n<6)\n",
        "print(answ==\"Y\" or answ==\"y\")\n",
        "print(answ==\"Y\" and answ==\"y\")\n",
        "print(not answ==\"y\")\n",
        "print((2<n and n==5+1) or answ==\"No\")\n",
        "print((n==2 and n==7) or answ==\"Y\")\n",
        "print(n==2 and (n==7 or answ==\"Y\"))"
      ],
      "execution_count": 11,
      "outputs": [
        {
          "output_type": "stream",
          "name": "stdout",
          "text": [
            "True\n",
            "True\n",
            "False\n",
            "False\n",
            "True\n",
            "False\n",
            "True\n",
            "False\n",
            "True\n",
            "False\n"
          ]
        }
      ]
    },
    {
      "cell_type": "markdown",
      "metadata": {
        "id": "zNfa-sADzVSs"
      },
      "source": [
        "##Problem Statement 3"
      ]
    },
    {
      "cell_type": "code",
      "metadata": {
        "colab": {
          "base_uri": "https://localhost:8080/"
        },
        "id": "eyJX6F1qzZIU",
        "outputId": "7e15caca-0280-4c12-e84f-3f2e783f4418"
      },
      "source": [
        "x = 2\n",
        "y = -3\n",
        "w = 7\n",
        "z = -10\n",
        "\n",
        "print(x/y)\n",
        "print(w/y/x)\n",
        "print(z/y%x)\n",
        "print(x%-y*w)\n",
        "print(x%y)\n",
        "print(z%w-y/x*5+5)\n",
        "print(9-x%(2+y))\n",
        "print(z//w)\n",
        "print((2+y)**2)\n",
        "print(w/x*2)"
      ],
      "execution_count": 4,
      "outputs": [
        {
          "output_type": "stream",
          "name": "stdout",
          "text": [
            "-0.6666666666666666\n",
            "-1.1666666666666667\n",
            "1.3333333333333335\n",
            "14\n",
            "-1\n",
            "16.5\n",
            "9\n",
            "-2\n",
            "1\n",
            "7.0\n"
          ]
        }
      ]
    }
  ]
}