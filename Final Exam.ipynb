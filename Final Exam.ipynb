{
  "nbformat": 4,
  "nbformat_minor": 0,
  "metadata": {
    "colab": {
      "name": "Final Exam.ipynb",
      "provenance": [],
      "authorship_tag": "ABX9TyPiTrfUYKmIG/xbtZCC9oED",
      "include_colab_link": true
    },
    "kernelspec": {
      "name": "python3",
      "display_name": "Python 3"
    },
    "language_info": {
      "name": "python"
    }
  },
  "cells": [
    {
      "cell_type": "markdown",
      "metadata": {
        "id": "view-in-github",
        "colab_type": "text"
      },
      "source": [
        "<a href=\"https://colab.research.google.com/github/JiroBrent/CPEN-21A-ECE-2-2/blob/main/Final%20Exam.ipynb\" target=\"_parent\"><img src=\"https://colab.research.google.com/assets/colab-badge.svg\" alt=\"Open In Colab\"/></a>"
      ]
    },
    {
      "cell_type": "markdown",
      "source": [
        "#Final Exam"
      ],
      "metadata": {
        "id": "vfP0dVzdKhSh"
      }
    },
    {
      "cell_type": "markdown",
      "source": [
        "##Problem Statement 1"
      ],
      "metadata": {
        "id": "VSdKTEwcLC4N"
      }
    },
    {
      "cell_type": "code",
      "source": [
        "#Create a Python program that will compute for the summation of 10 numbers that are less than 5 using FOR LOOP statement. (30 points)\n",
        "\n",
        "lst = []\n",
        "\n",
        "n = int(input(\"Enter number of elements: \"))\n",
        "\n",
        "for i in range(0, n):\n",
        "  ele = int(input(\"\"))\n",
        "  if ele < 5:\n",
        "    lst.append(ele)\n",
        "\n",
        "Sum = sum(lst)\n",
        "\n",
        "print(\"Numbers > 5 = \", lst)\n",
        "print(Sum)"
      ],
      "metadata": {
        "id": "bgl1V6zL6bvx",
        "outputId": "8d4d8a60-e05e-485c-feeb-d9ce1e9afe90",
        "colab": {
          "base_uri": "https://localhost:8080/"
        }
      },
      "execution_count": 1,
      "outputs": [
        {
          "output_type": "stream",
          "name": "stdout",
          "text": [
            "Enter number of elements: 10\n",
            "1\n",
            "2\n",
            "3\n",
            "4\n",
            "5\n",
            "6\n",
            "7\n",
            "8\n",
            "9\n",
            "10\n",
            "Numbers > 5 =  [1, 2, 3, 4]\n",
            "10\n"
          ]
        }
      ]
    },
    {
      "cell_type": "markdown",
      "source": [
        "##Problem Statement 2"
      ],
      "metadata": {
        "id": "FAwipj3cP-5Z"
      }
    },
    {
      "cell_type": "code",
      "source": [
        "#Create a Python program that will produce accept five numbers and determine the sum of first and last number among the five numbers entered using WHILE LOOP (35 points)\n",
        "\n",
        "x = 0\n",
        "s = []\n",
        "\n",
        "while x < 5:\n",
        "  x += 1\n",
        "  nm = int(input(\"Enter a number: \"))\n",
        "  s. append(nm)\n",
        "  sm = s[0] + s[-1]\n",
        "\n",
        "print(\"Numbers Input: \", s)\n",
        "print(sm)"
      ],
      "metadata": {
        "id": "C50JdFFxQBuP",
        "colab": {
          "base_uri": "https://localhost:8080/"
        },
        "outputId": "a162fe93-3f37-4089-f656-201ca9cad488"
      },
      "execution_count": 33,
      "outputs": [
        {
          "output_type": "stream",
          "name": "stdout",
          "text": [
            "Enter a number: 1\n",
            "Enter a number: 2\n",
            "Enter a number: 3\n",
            "Enter a number: 4\n",
            "Enter a number: 5\n",
            "Numbers Input:  [1, 2, 3, 4, 5]\n",
            "6\n"
          ]
        }
      ]
    },
    {
      "cell_type": "markdown",
      "source": [
        "##Problem Statement 3"
      ],
      "metadata": {
        "id": "MC7T_SePTSbi"
      }
    },
    {
      "cell_type": "code",
      "source": [
        "#Create a Python program to calculate student grades. It accepts a numerical grade as input and it will display the character grade as output based on the given scale: (Use Nested-IF-Elsestatement) (35 points)\n",
        "\n",
        "sum = 0\n",
        "average = 0\n",
        "\n",
        "print(\"Enter student grades in each subject:\")\n",
        "grade1 = int(input(\"Subject X \"))\n",
        "grade2 = int(input(\"Subject Y \"))\n",
        "grade3 = int(input(\"Subject Z \"))\n",
        "sum = grade1 + grade2 + grade3\n",
        "average = sum/3\n",
        "if average >= 90:\n",
        "  print(\"Your grade is A\")\n",
        "else:\n",
        "  if average >= 80 and average <90:\n",
        "   print(\"Your grade is B\")\n",
        "  else:\n",
        "    if average >= 70 and average <79:\n",
        "      print(\"Your grade is C\")\n",
        "    else:\n",
        "     if average >= 60 and average <69:\n",
        "       print(\"Your grade is D\")\n",
        "     else:\n",
        "       print(\"Your grade is F\")"
      ],
      "metadata": {
        "colab": {
          "base_uri": "https://localhost:8080/"
        },
        "id": "jSC58kyCTVWH",
        "outputId": "f925ee99-1af6-4422-e952-697b215476e8"
      },
      "execution_count": 10,
      "outputs": [
        {
          "output_type": "stream",
          "name": "stdout",
          "text": [
            "Enter student grades in each subject:\n",
            "Subject X 90\n",
            "Subject Y 80\n",
            "Subject Z 70\n",
            "Your grade is B\n"
          ]
        }
      ]
    }
  ]
}